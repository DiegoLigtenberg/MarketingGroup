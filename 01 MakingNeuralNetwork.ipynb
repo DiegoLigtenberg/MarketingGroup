{
 "cells": [
  {
   "cell_type": "code",
   "execution_count": null,
   "metadata": {},
   "outputs": [],
   "source": [
    "import os \n",
    "import pandas as pd\n",
    "import numpy as np\n",
    "import matplotlib.pyplot as plt\n",
    "import seaborn as sns\n",
    "import urllib.request, json\n",
    "import csv\n",
    "import re\n",
    "\n",
    "import urllib\n",
    "\n",
    "#time series\n",
    "import datetime\n",
    "import time\n",
    "from statsmodels.tsa.seasonal import seasonal_decompose\n",
    "import requests"
   ]
  },
  {
   "cell_type": "markdown",
   "metadata": {},
   "source": [
    "# Setting up the files [Warning]\n",
    "\n",
    "WARNING: This section should not be run, it is here to showcase how we converted the csv file column 'images_of_host'\n",
    "to our computer directory!!!\n",
    "\n",
    "\n"
   ]
  },
  {
   "cell_type": "markdown",
   "metadata": {},
   "source": [
    "# Our goal\n",
    "Our goal is to predict if the person (the host of an rb&b home) is either a male or female <br>\n",
    "\n",
    "Because we couldn't figure out a way to automatically classify the images as male/female<br>\n",
    "we manually made two folders of male training data and female training data<br>\n",
    "<br>\n",
    "We then used these 2 folders to train our model on, and see how it performed on new unseen data"
   ]
  },
  {
   "cell_type": "code",
   "execution_count": null,
   "metadata": {},
   "outputs": [],
   "source": [
    "#import daataset\n",
    "image_url = pd.read_csv(\"DataSets/images_of_host.csv\")"
   ]
  },
  {
   "cell_type": "code",
   "execution_count": null,
   "metadata": {},
   "outputs": [],
   "source": [
    "def url_to_jpg(i, url, file_path):\n",
    "  '''\n",
    "  Args:\n",
    "    -- i : number of images\n",
    "    -- url: a URL adress of a given image'\n",
    "    --file_path: where to save the final image\n",
    "  '''\n",
    "\n",
    "  filename = 'image-{}.jpg'.format(i)\n",
    "  full_path = '{}{}'.format(file_path, filename)\n",
    "  urllib.request.urlretrieve(url, full_path)\n",
    "\n",
    "  print('{} saved.'.format(filename))\n",
    "\n",
    "  return None\n",
    "\n",
    "\n",
    "#--------------------------------------\n",
    "#set cibstabt\n",
    "FILENAME = \"DataSets/images_of_host.csv\"\n",
    "FILE_PATH = 'DataSets/Images/'\n",
    "\n",
    "#Read list of URL as Pandas DataFrame\n",
    "urls = pd.read_csv(FILENAME)\n",
    "#---------------------------------------\n"
   ]
  },
  {
   "cell_type": "code",
   "execution_count": null,
   "metadata": {},
   "outputs": [],
   "source": [
    "# Save Images to the Directory by iterating through the list\n",
    "# Except pass!! => this makes it so that all images that aren't online anymore are SKIPPED.\n",
    "for i, url in enumerate(urls.values):\n",
    "    try:\n",
    "        url_to_jpg(i, url[0], FILE_PATH)\n",
    "    except:\n",
    "        pass\n",
    "\n",
    "    "
   ]
  }
 ],
 "metadata": {
  "kernelspec": {
   "display_name": "Python 3",
   "language": "python",
   "name": "python3"
  },
  "language_info": {
   "codemirror_mode": {
    "name": "ipython",
    "version": 3
   },
   "file_extension": ".py",
   "mimetype": "text/x-python",
   "name": "python",
   "nbconvert_exporter": "python",
   "pygments_lexer": "ipython3",
   "version": "3.7.1"
  }
 },
 "nbformat": 4,
 "nbformat_minor": 2
}
